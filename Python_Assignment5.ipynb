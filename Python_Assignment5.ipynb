{
  "nbformat": 4,
  "nbformat_minor": 0,
  "metadata": {
    "colab": {
      "provenance": [],
      "authorship_tag": "ABX9TyNIwkndvN2wcRVxTK+bd7Ne",
      "include_colab_link": true
    },
    "kernelspec": {
      "name": "python3",
      "display_name": "Python 3"
    },
    "language_info": {
      "name": "python"
    }
  },
  "cells": [
    {
      "cell_type": "markdown",
      "metadata": {
        "id": "view-in-github",
        "colab_type": "text"
      },
      "source": [
        "<a href=\"https://colab.research.google.com/github/ParthKalsi22/Python_Class/blob/main/Python_Assignment5.ipynb\" target=\"_parent\"><img src=\"https://colab.research.google.com/assets/colab-badge.svg\" alt=\"Open In Colab\"/></a>"
      ]
    },
    {
      "cell_type": "code",
      "execution_count": 1,
      "metadata": {
        "colab": {
          "base_uri": "https://localhost:8080/"
        },
        "id": "7bLtyw2ko4_Y",
        "outputId": "3a46eb94-1b1f-40de-9a05-9f731313e5e0"
      },
      "outputs": [
        {
          "output_type": "stream",
          "name": "stdout",
          "text": [
            "Downloaded image 1\n",
            "Downloaded image 2\n",
            "Downloaded image 3\n",
            "Downloaded image 4\n",
            "Downloaded image 5\n",
            "Downloaded image 6\n"
          ]
        }
      ],
      "source": [
        "import os\n",
        "import requests\n",
        "from bs4 import BeautifulSoup\n",
        "from urllib.parse import quote\n",
        "\n",
        "def search_google_images(query, num_images=10, download_path='images'):\n",
        "    try:\n",
        "        # Constructing the Google Images search URL with the given query\n",
        "        response = requests.get(f\"https://www.google.ca/search?q={quote(query)}&tbm=isch\")\n",
        "        response.raise_for_status()\n",
        "        # Parsing the HTML content of the response using BeautifulSoup\n",
        "        soup = BeautifulSoup(response.content, 'html.parser')\n",
        "        # Find all image tags on the page\n",
        "        images_tags = soup.find_all('img')\n",
        "        # Removing the first image tag (not an actual result)\n",
        "        del images_tags[0]\n",
        "        # Creating the download directory if it doesn't exist\n",
        "        os.makedirs(download_path, exist_ok=True)\n",
        "        # Downloading and saving the specified number of images\n",
        "        for i, image_tag in enumerate(images_tags[:num_images]):\n",
        "            try:\n",
        "              # Extracting the image URL from the 'src' attribute of the img tag\n",
        "                image_url = image_tag['src']\n",
        "              # Getting the image data and saving it to a file in the download directory\n",
        "                image_data = requests.get(image_url).content\n",
        "                with open(os.path.join(download_path, f\"{query}_{i}.jpg\"), \"wb\") as f:\n",
        "                    f.write(image_data)\n",
        "                # Print a success message for each downloaded image(just added for debugging reasons)\n",
        "                print(f\"Downloaded image {i + 1}\")\n",
        "            except Exception as e:\n",
        "              # Print an error message if downloading fails for an image\n",
        "                print(f\"Error downloading image {i + 1}: {e}\")\n",
        "   #  For Handling request-related errors\n",
        "    except requests.exceptions.RequestException as e:\n",
        "        print(f\"Error making request: {e}\")\n",
        "  # For Handling other unexpected errors\n",
        "    except Exception as e:\n",
        "        print(f\"An unexpected error occurred: {e}\")\n",
        "\n",
        "if __name__ == \"__main__\":\n",
        "  # Setting the search query and calling the search function\n",
        "    search_query = \"himachal\"\n",
        "    search_google_images(search_query, num_images=6, download_path='downloaded_images')\n"
      ]
    },
    {
      "cell_type": "code",
      "source": [],
      "metadata": {
        "id": "LsRPtkmwpQzP"
      },
      "execution_count": null,
      "outputs": []
    }
  ]
}