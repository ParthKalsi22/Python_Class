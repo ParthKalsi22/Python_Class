{
  "nbformat": 4,
  "nbformat_minor": 0,
  "metadata": {
    "colab": {
      "provenance": [],
      "authorship_tag": "ABX9TyPNu8j1OPB1UraBEqcSGhUS",
      "include_colab_link": true
    },
    "kernelspec": {
      "name": "python3",
      "display_name": "Python 3"
    },
    "language_info": {
      "name": "python"
    }
  },
  "cells": [
    {
      "cell_type": "markdown",
      "metadata": {
        "id": "view-in-github",
        "colab_type": "text"
      },
      "source": [
        "<a href=\"https://colab.research.google.com/github/ParthKalsi22/Python_Class/blob/main/ClassAssmt_894123.ipynb\" target=\"_parent\"><img src=\"https://colab.research.google.com/assets/colab-badge.svg\" alt=\"Open In Colab\"/></a>"
      ]
    },
    {
      "cell_type": "code",
      "execution_count": null,
      "metadata": {
        "colab": {
          "base_uri": "https://localhost:8080/"
        },
        "id": "ZEo18THbhLj5",
        "outputId": "921c2dbb-21cd-4490-99f6-2ea6a9bf0ce0"
      },
      "outputs": [
        {
          "output_type": "stream",
          "name": "stdout",
          "text": [
            "Name of Vehicle: Car\n",
            "Max Speed: 100 mph\n",
            "Average Speed: 70 mph\n",
            "Name: Car, Max Speed: 100 mph, Average Speed: 70 mph\n"
          ]
        }
      ],
      "source": [
        "# Question1\n",
        "class Vehicle:\n",
        "    def __init__(self, name_of_vehicle, max_speed, average_speed):\n",
        "        self.name_of_vehicle = name_of_vehicle\n",
        "        self.max_speed = max_speed\n",
        "        self.average_speed = average_speed\n",
        "\n",
        "    def __str__(self):\n",
        "        return f\"Name: {self.name_of_vehicle}, Max Speed: {self.max_speed} mph, Average Speed: {self.average_speed} mph\"\n",
        "\n",
        "# Creating a Vehicle instance\n",
        "car = Vehicle(\"Car\", 100, 70)\n",
        "#Accessing instance variables\n",
        "print(f\"Name of Vehicle: {car.name_of_vehicle}\")\n",
        "print(f\"Max Speed: {car.max_speed} mph\")\n",
        "print(f\"Average Speed: {car.average_speed} mph\")\n",
        "\n",
        "\n",
        "print(car)\n"
      ]
    },
    {
      "cell_type": "code",
      "source": [
        "#Question2\n",
        "class Car(Vehicle):\n",
        "    def __init__(self, name_of_vehicle, max_speed, average_speed, seating_capacity):\n",
        "        super().__init__(name_of_vehicle, max_speed, average_speed)\n",
        "        self.seating_capacity = seating_capacity\n",
        "\n",
        "    def seating_capacity(self):\n",
        "        return f\"{self.name_of_vehicle} can seat {self.seating_capacity} people.\"\n",
        "\n",
        "# Creating a Car instance\n",
        "sedan = Car(\"Sedan\", 120, 50, 5)\n",
        "# Accessing instance variables\n",
        "print(f\"Name of Vehicle: {sedan.name_of_vehicle}\")\n",
        "print(f\"Max Speed: {sedan.max_speed} mph\")\n",
        "print(f\"Average Speed: {sedan.average_speed} mph\")\n",
        "print(f\"Seating Capacity: {sedan.seating_capacity}\")\n",
        "\n",
        "\n",
        "print(sedan.seating_capacity)\n"
      ],
      "metadata": {
        "colab": {
          "base_uri": "https://localhost:8080/"
        },
        "id": "HQbp07pksBt3",
        "outputId": "3e46fe4c-3481-4068-cb43-8ec434fa65a6"
      },
      "execution_count": null,
      "outputs": [
        {
          "output_type": "stream",
          "name": "stdout",
          "text": [
            "Name of Vehicle: Sedan\n",
            "Max Speed: 120 mph\n",
            "Average Speed: 50 mph\n",
            "Seating Capacity: 5\n",
            "5\n"
          ]
        }
      ]
    },
    {
      "cell_type": "code",
      "source": [
        "#Question3\n",
        "# Multiple inheritance is a feature in OOP languages like Python that allows class to inherit attributes and methods from more than one parent class.\n",
        "# In other words, a class can inherit properties and behaviors from multiple base classes\n",
        "\n",
        "class Customer:\n",
        "    def __init__(self, name, contact):\n",
        "        self.name = name\n",
        "        self.contact = contact\n",
        "\n",
        "    def display_info(self):\n",
        "        print(f\"Customer: {self.name}, Contact: {self.contact}\")\n",
        "\n",
        "\n",
        "class Vehicle:\n",
        "    def __init__(self, make, model, year):\n",
        "        self.make = make\n",
        "        self.model = model\n",
        "        self.year = year\n",
        "\n",
        "    def display_info(self):\n",
        "        print(f\"Vehicle: {self.year} {self.make} {self.model}\")\n",
        "\n",
        "\n",
        "class Rental(Customer, Vehicle):\n",
        "    def __init__(self, name, contact, make, model, year, rental_period):\n",
        "        Customer.__init__(self, name, contact)\n",
        "        Vehicle.__init__(self, make, model, year)\n",
        "        self.rental_period = rental_period\n",
        "\n",
        "    def display_info(self):\n",
        "        print(\"Rental Information:\")\n",
        "        Customer.display_info(self)\n",
        "        Vehicle.display_info(self)\n",
        "        print(f\"Rental Period: {self.rental_period} days\")\n",
        "\n",
        "\n",
        "rental = Rental(\"Parth Kalsi\", \"parth.kalsi22@gmail.com\", \"Maruti Suzuki\", \"Brezza\", 2022, 15)\n",
        "rental.display_info()\n"
      ],
      "metadata": {
        "colab": {
          "base_uri": "https://localhost:8080/"
        },
        "id": "FOozolaOvYms",
        "outputId": "57ab5377-1afb-4e9c-87dc-17feccf4b648"
      },
      "execution_count": null,
      "outputs": [
        {
          "output_type": "stream",
          "name": "stdout",
          "text": [
            "Rental Information:\n",
            "Customer: Parth Kalsi, Contact: parth.kalsi22@gmail.com\n",
            "Vehicle: 2022 Maruti Suzuki Brezza\n",
            "Rental Period: 15 days\n"
          ]
        }
      ]
    },
    {
      "cell_type": "code",
      "source": [
        "class Person:\n",
        "    def __init__(self, name, age, gender):\n",
        "        self._name = name\n",
        "        self.__age = age  # Private attribute\n",
        "        self._gender = gender\n",
        "\n",
        "    def say_hello(self):\n",
        "        print(f\"Hello, my name is {self._name}.\")\n",
        "\n",
        "    def is_adult(self):\n",
        "        return self.__age >= 18\n",
        "\n",
        "    # Task4: Encapsulation\n",
        "    def get_age(self):\n",
        "        return self.__age\n",
        "\n",
        "\n",
        "class Student(Person):\n",
        "    def __init__(self, name, age, gender, student_id, course):\n",
        "        super().__init__(name, age, gender)\n",
        "        self.student_id = student_id\n",
        "        self.course = course\n",
        "\n",
        "class Teacher(Person):\n",
        "    def __init__(self, name, age, gender, teacher_id, subject):\n",
        "        super().__init__(name, age, gender)\n",
        "        self.teacher_id = teacher_id\n",
        "        self.subject = subject\n",
        "\n",
        "    # Polymorphism: Override say_hello() for Teacher class\n",
        "    def say_hello(self):\n",
        "        print(f\"Hello, I am {self._name}, your {self.subject} teacher.\")\n",
        "\n",
        "\n",
        "# Task 1\n",
        "person1 = Person(\"Ram\", 20, \"Male\")\n",
        "person1.say_hello()\n",
        "print(f\"Is {person1._name} an adult? {person1.is_adult()}\")\n",
        "print(f\"{person1._name}'s age is {person1.get_age()}\")\n",
        "\n",
        "# Task 2\n",
        "student1 = Student(\"Sham\", 22, \"Male\", \"c0894123\", \"Python\")\n",
        "print(f\"{student1._name} is a student in {student1.course}.\")\n",
        "\n",
        "# Task 3\n",
        "teacher1 = Teacher(\"Sita\", 30, \"Female\", \"c089345\", \"Project Management\")\n",
        "teacher1.say_hello()\n",
        "\n",
        "\n",
        "# Task4: Goal to achieve-> This won't work:- print(person1.__age)\n",
        "\n",
        "print(f\"{person1._name}'s age is {person1.get_age()}\")\n"
      ],
      "metadata": {
        "colab": {
          "base_uri": "https://localhost:8080/"
        },
        "id": "GkwpK6BDvtos",
        "outputId": "bd47a158-589e-4f61-c575-f15d8eec2486"
      },
      "execution_count": null,
      "outputs": [
        {
          "output_type": "stream",
          "name": "stdout",
          "text": [
            "Hello, my name is Ram.\n",
            "Is Ram an adult? True\n",
            "Ram's age is 20\n",
            "Sham is a student in Python.\n",
            "Hello, I am Sita, your Project Management teacher.\n",
            "Ram's age is 20\n"
          ]
        }
      ]
    }
  ]
}